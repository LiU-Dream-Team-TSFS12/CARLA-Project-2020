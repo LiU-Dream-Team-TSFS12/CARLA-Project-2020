{
 "cells": [
  {
   "cell_type": "markdown",
   "metadata": {},
   "source": [
    "# TSFS12: Get positions of all vehicles in the world"
   ]
  },
  {
   "cell_type": "markdown",
   "metadata": {},
   "source": [
    "Small example how to obtain positions of vehicles in the world."
   ]
  },
  {
   "cell_type": "code",
   "execution_count": 1,
   "metadata": {},
   "outputs": [],
   "source": [
    "import carla\n",
    "import numpy as np\n",
    "import matplotlib.pyplot as plt"
   ]
  },
  {
   "cell_type": "code",
   "execution_count": 2,
   "metadata": {},
   "outputs": [
    {
     "name": "stdout",
     "output_type": "stream",
     "text": [
      "Using matplotlib backend: TkAgg\n"
     ]
    }
   ],
   "source": [
    "%matplotlib"
   ]
  },
  {
   "cell_type": "markdown",
   "metadata": {},
   "source": [
    "# Populate the world"
   ]
  },
  {
   "cell_type": "markdown",
   "metadata": {},
   "source": [
    "Start to populate the world by going to the examples directory and spawn vehicles\n",
    "```\n",
    "./spawn_npc.py -n 80\n",
    "```"
   ]
  },
  {
   "cell_type": "markdown",
   "metadata": {},
   "source": [
    "## Connect to a running Carla server and get main pointers"
   ]
  },
  {
   "cell_type": "markdown",
   "metadata": {},
   "source": [
    "Get pointers to Carla and the world"
   ]
  },
  {
   "cell_type": "code",
   "execution_count": 3,
   "metadata": {},
   "outputs": [],
   "source": [
    "HOST = 'localhost'\n",
    "PORT = 2000\n",
    "client = carla.Client(HOST, PORT)\n",
    "client.set_timeout(4.0)"
   ]
  },
  {
   "cell_type": "code",
   "execution_count": 4,
   "metadata": {},
   "outputs": [],
   "source": [
    "world = client.get_world()"
   ]
  },
  {
   "cell_type": "markdown",
   "metadata": {},
   "source": [
    "# Change the town and set the weather"
   ]
  },
  {
   "cell_type": "code",
   "execution_count": 8,
   "metadata": {},
   "outputs": [
    {
     "data": {
      "text/plain": [
       "<carla.libcarla.World at 0x7f617fcd5b10>"
      ]
     },
     "execution_count": 8,
     "metadata": {},
     "output_type": "execute_result"
    }
   ],
   "source": [
    "client.load_world('Town07')  # Town01-Town07 are available"
   ]
  },
  {
   "cell_type": "code",
   "execution_count": 9,
   "metadata": {},
   "outputs": [],
   "source": [
    "world = client.get_world()"
   ]
  },
  {
   "cell_type": "code",
   "execution_count": 10,
   "metadata": {},
   "outputs": [],
   "source": [
    "weather = world.get_weather()\n",
    "world.set_weather(weather.ClearNoon)"
   ]
  },
  {
   "cell_type": "markdown",
   "metadata": {},
   "source": [
    "# Get vehicle information"
   ]
  },
  {
   "cell_type": "markdown",
   "metadata": {},
   "source": [
    "Get a list of all actors and filter out all vehicles."
   ]
  },
  {
   "cell_type": "code",
   "execution_count": 11,
   "metadata": {},
   "outputs": [
    {
     "name": "stdout",
     "output_type": "stream",
     "text": [
      "Found 305 actors in the world.\n"
     ]
    }
   ],
   "source": [
    "all_actors = world.get_actors()\n",
    "print('Found {} actors in the world.'.format(len(all_actors)))"
   ]
  },
  {
   "cell_type": "code",
   "execution_count": 18,
   "metadata": {},
   "outputs": [
    {
     "name": "stdout",
     "output_type": "stream",
     "text": [
      "Found 100 vehicles in the world.\n"
     ]
    }
   ],
   "source": [
    "# Filter out vehicles\n",
    "all_veh = [v for v in all_actors if v.type_id.startswith('vehicle')]\n",
    "print('Found {} vehicles in the world.'.format(len(all_veh)))"
   ]
  },
  {
   "cell_type": "markdown",
   "metadata": {},
   "source": [
    "Create a random number generator"
   ]
  },
  {
   "cell_type": "code",
   "execution_count": 22,
   "metadata": {},
   "outputs": [],
   "source": [
    "rg = np.random.default_rng()"
   ]
  },
  {
   "cell_type": "markdown",
   "metadata": {},
   "source": [
    "Randomly select 10 vehicles and print their positions"
   ]
  },
  {
   "cell_type": "code",
   "execution_count": 25,
   "metadata": {},
   "outputs": [
    {
     "name": "stdout",
     "output_type": "stream",
     "text": [
      "vehicle.bh.crossbike: (x, y) = (65.8, -106.4)\n",
      "vehicle.jeep.wrangler_rubicon: (x, y) = (-102.5, -45.9)\n",
      "vehicle.audi.a2: (x, y) = (80.7, 9.4)\n",
      "vehicle.tesla.model3: (x, y) = (39.3, -202.3)\n",
      "vehicle.audi.tt: (x, y) = (-150.3, -36.6)\n",
      "vehicle.dodge_charger.police: (x, y) = (56.4, 64.1)\n",
      "vehicle.carlamotors.carlacola: (x, y) = (-24.5, 0.4)\n",
      "vehicle.yamaha.yzf: (x, y) = (-102.9, 32.0)\n",
      "vehicle.ford.mustang: (x, y) = (-98.9, -79.3)\n",
      "vehicle.gazelle.omafiets: (x, y) = (-109.6, -97.9)\n"
     ]
    }
   ],
   "source": [
    "for veh_i in rg.choice(all_veh, 10):\n",
    "    tf_i = veh_i.get_transform()\n",
    "    print(\"{}: (x, y) = ({:.1f}, {:.1f})\".format(veh_i.type_id,\n",
    "                                                 tf_i.location.x,\n",
    "                                                 tf_i.location.y))"
   ]
  },
  {
   "cell_type": "code",
   "execution_count": null,
   "metadata": {},
   "outputs": [],
   "source": []
  }
 ],
 "metadata": {
  "kernelspec": {
   "display_name": "Python 3",
   "language": "python",
   "name": "python3"
  },
  "language_info": {
   "codemirror_mode": {
    "name": "ipython",
    "version": 3
   },
   "file_extension": ".py",
   "mimetype": "text/x-python",
   "name": "python",
   "nbconvert_exporter": "python",
   "pygments_lexer": "ipython3",
   "version": "3.6.9"
  }
 },
 "nbformat": 4,
 "nbformat_minor": 4
}
