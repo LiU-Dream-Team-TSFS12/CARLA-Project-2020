{
 "cells": [
  {
   "cell_type": "markdown",
   "metadata": {},
   "source": [
    "## Initial imports"
   ]
  },
  {
   "cell_type": "code",
   "execution_count": 1206,
   "metadata": {},
   "outputs": [],
   "source": [
    "import carla\n",
    "import numpy as np\n",
    "import matplotlib.pyplot as plt\n",
    "import seaborn as sns\n",
    "import sys\n",
    "from agents.navigation.global_route_planner_dao import GlobalRoutePlannerDAO\n",
    "from agents.navigation.global_route_planner import GlobalRoutePlanner\n",
    "from algs import splinepath\n",
    "from agents.navigation.local_planner import RoadOption\n",
    "import time"
   ]
  },
  {
   "cell_type": "code",
   "execution_count": 1207,
   "metadata": {},
   "outputs": [],
   "source": [
    "rg = np.random.default_rng()"
   ]
  },
  {
   "cell_type": "markdown",
   "metadata": {},
   "source": [
    "## Connect to a running Carla server and get main pointers"
   ]
  },
  {
   "cell_type": "markdown",
   "metadata": {},
   "source": [
    "Get pointer to Carla and load a world"
   ]
  },
  {
   "cell_type": "code",
   "execution_count": 1208,
   "metadata": {},
   "outputs": [],
   "source": [
    "HOST = 'localhost'\n",
    "PORT = 2000\n",
    "client = carla.Client(HOST, PORT)\n",
    "client.set_timeout(2.0)"
   ]
  },
  {
   "cell_type": "code",
   "execution_count": 1209,
   "metadata": {},
   "outputs": [
    {
     "ename": "RuntimeError",
     "evalue": "failed to connect to newly created map",
     "output_type": "error",
     "traceback": [
      "\u001b[0;31m---------------------------------------------------------------------------\u001b[0m",
      "\u001b[0;31mRuntimeError\u001b[0m                              Traceback (most recent call last)",
      "\u001b[0;32m<ipython-input-1209-aeb425a34071>\u001b[0m in \u001b[0;36m<module>\u001b[0;34m\u001b[0m\n\u001b[0;32m----> 1\u001b[0;31m \u001b[0mclient\u001b[0m\u001b[0;34m.\u001b[0m\u001b[0mload_world\u001b[0m\u001b[0;34m(\u001b[0m\u001b[0;34m'Town03'\u001b[0m\u001b[0;34m)\u001b[0m  \u001b[0;31m# Town01-Town07 are available\u001b[0m\u001b[0;34m\u001b[0m\u001b[0;34m\u001b[0m\u001b[0m\n\u001b[0m",
      "\u001b[0;31mRuntimeError\u001b[0m: failed to connect to newly created map"
     ]
    }
   ],
   "source": [
    "client.load_world('Town03')  # Town01-Town07 are available"
   ]
  },
  {
   "cell_type": "markdown",
   "metadata": {},
   "source": [
    "_wp =  Waypoint(Transform(Location(x=215.318863, y=-5.264622, z=0.000000), Rotation(pitch=0.000000, yaw=-179.144196, roll=0.000000)))\n",
    "car_wp next index in route =  0\n",
    "Old_route =  [(215.31796264648438, -5.2646355628967285, <RoadOption.LANEFOLLOW: 4>), (210.31851196289062, -5.339315414428711, <RoadOption.LANEFOLLOW: 4>), (205.31907653808594, -5.413994789123535, <RoadOption.LANEFOLLOW: 4>), (200.3196258544922, -5.48867416381835Get pointers to the world and blueprint library (templates to all actors and vehicles)."
   ]
  },
  {
   "cell_type": "code",
   "execution_count": 1234,
   "metadata": {},
   "outputs": [],
   "source": [
    "world = client.get_world()\n",
    "bpl = world.get_blueprint_library()\n",
    "sp = world.get_spectator()  # Get pointer to the spectator, i.e., camera in the server window"
   ]
  },
  {
   "cell_type": "markdown",
   "metadata": {},
   "source": [
    "It is easy to manipulate the world, e.g., change the wather."
   ]
  },
  {
   "cell_type": "code",
   "execution_count": 1235,
   "metadata": {},
   "outputs": [],
   "source": [
    "weather = world.get_weather()\n",
    "world.set_weather(weather.ClearNoon)"
   ]
  },
  {
   "cell_type": "markdown",
   "metadata": {},
   "source": [
    "Get information about the spectator, e.g., position and orientation. Experiment by moving around in the world and see how things change."
   ]
  },
  {
   "cell_type": "markdown",
   "metadata": {},
   "source": [
    "### Spawn a car in the world"
   ]
  },
  {
   "cell_type": "markdown",
   "metadata": {},
   "source": [
    "This is an example planning mission (defined for Town03). Positions specified using the carla ```Location``` type."
   ]
  },
  {
   "cell_type": "code",
   "execution_count": 1260,
   "metadata": {},
   "outputs": [],
   "source": [
    "start_point = carla.Location(x=243, y=40, z=1)  # Start point\n",
    "end_point = carla.Location(x=244, y=-167, z=1)  # End point"
   ]
  },
  {
   "cell_type": "markdown",
   "metadata": {},
   "source": [
    "Find a random type of Audi in the library of available vehicles."
   ]
  },
  {
   "cell_type": "code",
   "execution_count": 1261,
   "metadata": {},
   "outputs": [],
   "source": [
    "bp = rg.choice(bpl.filter('vehicle.audi.*'))"
   ]
  },
  {
   "cell_type": "markdown",
   "metadata": {},
   "source": [
    "Spawn the car at the start point. Go and look for it in the world. It is also a good idea to keep track of created actors in the world so that you can clean up at the end."
   ]
  },
  {
   "cell_type": "code",
   "execution_count": 1262,
   "metadata": {},
   "outputs": [],
   "source": [
    "actors = []\n",
    "car = world.spawn_actor(bp, carla.Transform(start_point))\n",
    "actors.append(car)"
   ]
  },
  {
   "cell_type": "code",
   "execution_count": null,
   "metadata": {},
   "outputs": [],
   "source": []
  },
  {
   "cell_type": "markdown",
   "metadata": {},
   "source": [
    "### Plan a mission"
   ]
  },
  {
   "cell_type": "markdown",
   "metadata": {},
   "source": [
    "Make a plan using the carla provided A* planner (you are welcome to integrate your planner from hand-in 1 if you like but you do not have to). Also create a ```SplinePath ``` object of the resulting plan."
   ]
  },
  {
   "cell_type": "code",
   "execution_count": 1263,
   "metadata": {},
   "outputs": [],
   "source": [
    "RESOLUTION = 1\n",
    "_map = world.get_map()\n",
    "dao = GlobalRoutePlannerDAO(_map, sampling_resolution=RESOLUTION)\n",
    "rp = GlobalRoutePlanner(dao)\n",
    "rp.setup()\n",
    "route = rp.trace_route(start_point, end_point)\n",
    "\n",
    "## Create path object using nodes\n",
    "p = np.array([(ri[0].transform.location.x, ri[0].transform.location.y)\n",
    "              for ri in route])\n",
    "path = splinepath.SplinePath(p, min_grid=3)"
   ]
  },
  {
   "cell_type": "markdown",
   "metadata": {},
   "source": [
    "Move car and spectator to beginning of plan."
   ]
  },
  {
   "cell_type": "code",
   "execution_count": 1264,
   "metadata": {},
   "outputs": [],
   "source": [
    "t = route[0][0].transform\n",
    "car.set_transform(t)\n",
    "t.location.z += 15  # 15 meters above car\n",
    "sp.set_transform(t)"
   ]
  },
  {
   "cell_type": "markdown",
   "metadata": {},
   "source": [
    "## Add a car(obstacle) on the calculated path"
   ]
  },
  {
   "cell_type": "code",
   "execution_count": 1265,
   "metadata": {},
   "outputs": [],
   "source": [
    "car_obs = world.spawn_actor(bp, carla.Transform(route[15][0].transform.location))\n",
    "car_obs2 = world.spawn_actor(bp, carla.Transform(route[80][0].transform.location))\n",
    "actors.append(car_obs)\n",
    "actors.append(car_obs2)\n",
    "t = route[15][0].transform\n",
    "car_obs.set_transform(t)\n",
    "t = route[70][0].transform\n",
    "car_obs2.set_transform(t)"
   ]
  },
  {
   "cell_type": "markdown",
   "metadata": {},
   "source": [
    "## State feedback controller"
   ]
  },
  {
   "cell_type": "code",
   "execution_count": 1266,
   "metadata": {},
   "outputs": [],
   "source": [
    "\n",
    "class StateFeedbackController:\n",
    "    def __init__(self, K, L, path=None, goal_tol=1):\n",
    "        self.plan = path\n",
    "        self.K = K\n",
    "        self.goal_tol = goal_tol\n",
    "        self.d = []\n",
    "        self.delta = []\n",
    "        self.theta_e = []\n",
    "        self.s_p = []\n",
    "        self.L = L\n",
    "        self.s0 = 0\n",
    "\n",
    "        self.t = []\n",
    "        self.w = []\n",
    "\n",
    "    def heading_error(self, heading, s):\n",
    "        \"\"\"Compute theta error\"\"\"\n",
    "        heading0, nc = self.plan.heading(s)\n",
    "        cos_alpha = heading.dot(heading0)\n",
    "        sin_alpha = np.float(np.cross(heading0, heading))\n",
    "\n",
    "        theta_e = np.arctan2(sin_alpha, cos_alpha)\n",
    "        return theta_e\n",
    "\n",
    "    def u(self, t, w):\n",
    "        def glob_stab_fact(x):\n",
    "            \"\"\"Series expansion of sin(x)/x around x=0.\"\"\"\n",
    "            return 1 - x**2/6 + x**4/120 - x**6/5040\n",
    "\n",
    "        a = 0\n",
    "        x, y, theta, v = w\n",
    "        self.w.append(w)\n",
    "        p_car = w[0:2]\n",
    "        si, d = self.plan.project(p_car, self.s0, ds=2, s_lim=20)\n",
    "        self.s0 = si\n",
    "\n",
    "        heading = np.array([np.cos(theta), np.sin(theta)])\n",
    "        theta_e = self.heading_error(heading, si)\n",
    "\n",
    "        # No feed-forward term\n",
    "        u =  - self.K.dot(np.array([d*glob_stab_fact(theta_e), theta_e]))[0]\n",
    "        delta = np.max((-1.0, np.min((1.0, self.L*u))))\n",
    "        \n",
    "        self.d.append(d)\n",
    "        self.delta.append(delta)\n",
    "        self.s_p.append(si)\n",
    "        self.theta_e.append(theta_e)\n",
    "        self.t.append(t)\n",
    "\n",
    "        return np.array([delta, a])\n",
    "    \n",
    "    def run(self, t, w):\n",
    "        p_goal = self.plan.path[-1, :]\n",
    "        p_car = w[0:2]\n",
    "        dp = p_car - p_goal\n",
    "        dist = np.sqrt(dp.dot(dp))\n",
    "        if dist < self.goal_tol:\n",
    "            return False\n",
    "        else:\n",
    "            return True"
   ]
  },
  {
   "cell_type": "code",
   "execution_count": null,
   "metadata": {},
   "outputs": [],
   "source": []
  },
  {
   "cell_type": "markdown",
   "metadata": {},
   "source": [
    "## Calcualte path"
   ]
  },
  {
   "cell_type": "code",
   "execution_count": 1267,
   "metadata": {},
   "outputs": [],
   "source": [
    "def calculate_path(route, actors, RADIUS=RESOLUTION, _map=_map):\n",
    "    def _is_equal_location(loc1, loc2, offset=RADIUS):\n",
    "        return round(np.abs(loc1.x - loc2.x),0) < offset and round(np.abs(loc1.y - loc2.y),0) < offset\n",
    "    \n",
    "    def _is_next_wp(wp1, wp2, offset=RADIUS):\n",
    "        return round(abs(wp1.s-wp2.s)) < offset\n",
    "    #Location of all obstacles, should be exchanged with waypoint generated by RPLidar\n",
    "    obstacles = [] \n",
    "    for i in range(1, len(actors)):\n",
    "        obstacles.append(actors[i].get_transform().location)\n",
    "    car_wp = _map.get_waypoint(actors[0].get_transform().location, project_to_road=True, lane_type=carla.LaneType.Driving) \n",
    "    \n",
    "    #Look is there is a obstacle in the same lane within the look ahead distance, if there is save the distance \n",
    "    i = 1\n",
    "    found_obs = False\n",
    "    look_ahead_wp = car_wp\n",
    "    look_ahead_distance = 25\n",
    "    while True:\n",
    "        look_ahead_wp = look_ahead_wp.next(RADIUS)[0]\n",
    "        for obs in obstacles:\n",
    "            if _is_equal_location(obs, look_ahead_wp.transform.location):\n",
    "                found_obs = True\n",
    "                break\n",
    "        if found_obs:\n",
    "            break\n",
    "        if i == look_ahead_distance:\n",
    "            break\n",
    "        i = i + 1\n",
    "    dist = i\n",
    "    print(\"Found obs = \", found_obs)\n",
    "    print(\"dist = \", dist)\n",
    "    #Find index of the waypoint closest to and ahead of car in the current route (-1 if not found).\n",
    "    index = -1\n",
    "    for j in range(len(route)):\n",
    "        loc_route = route[j][0].transform.location #Location at point with index j in current route\n",
    "        loc_car = car_wp.transform.location #Location of car\n",
    "        if round(car_wp.s,0) <= round(route[j][0].s,0) and _is_next_wp(car_wp, route[j][0]):\n",
    "            index = j\n",
    "            break\n",
    "    #If the car is not on the path then there is no remaning path\n",
    "    if index == -1:\n",
    "        return {\"route\": [], \"path\": []}\n",
    "    #The remaining part of the route is the new route (index+1 to include the waypoint at index)\n",
    "    temp_route = route[index+1:]  \n",
    "    \n",
    "    #If an obstacle is found then modify the current route     \n",
    "    if found_obs: \n",
    "        #Turn left (to start with assume left lane is available and free)\n",
    "        temp_route[index] = (temp_route[index][0], RoadOption.CHANGELANELEFT)\n",
    "        #Get the corresponding left lane waypoint (~90 deg left from car)\n",
    "        left_wp = temp_route[index][0].get_left_lane().next(RADIUS)[0]\n",
    "        #Drive in the left lane two times the distance to the target.\n",
    "        for k in range(index + 1, index + dist*2):\n",
    "            left_wp = left_wp.next(RADIUS)[0]\n",
    "            temp_route[k] = (left_wp, RoadOption.LANEFOLLOW)\n",
    "        #Change to the original lane\n",
    "        temp_route[index+dist*2] = (left_wp, RoadOption.CHANGELANERIGHT)\n",
    "        #When car is back in the original lane temporaly remove the remaining part of the route.\n",
    "        del temp_route[index+dist*2+1:]\n",
    "        #Index in the route for the closest ahead waypoint after the overtaking is done\n",
    "        index_after = -1\n",
    "        for j in range(len(route)):\n",
    "            wp_route = route[j][0]\n",
    "            wp_car = left_wp.get_right_lane().next(RADIUS)[0].next(RADIUS)[0]\n",
    "            if round(wp_car.s,0) <= round(wp_route.s,0) and _is_next_wp(wp_car, wp_route) and wp_car.lane_id == wp_route.lane_id:\n",
    "                index_after = j\n",
    "                break\n",
    "        #If there is an remaining route after the overtake, then extend the new route with the remaining part from there of the current route\n",
    "        if index_after != -1:\n",
    "            temp_route.extend(route[index_after:])\n",
    "        \n",
    "    #Calculate new spline path from new route \n",
    "    temp_p = np.array([(ri[0].transform.location.x, ri[0].transform.location.y)\n",
    "              for ri in temp_route])\n",
    "    temp_path = splinepath.SplinePath(temp_p, min_grid=3)\n",
    "    \n",
    "    return {\"path\": temp_path, \"route\": temp_route}"
   ]
  },
  {
   "cell_type": "markdown",
   "metadata": {},
   "source": [
    "# Run car"
   ]
  },
  {
   "cell_type": "markdown",
   "metadata": {},
   "source": [
    "## Initial control"
   ]
  },
  {
   "cell_type": "code",
   "execution_count": 1268,
   "metadata": {},
   "outputs": [],
   "source": [
    "init_transform = route[0][0].transform # Set car in initial position of the plan\n",
    "car.set_transform(init_transform)\n",
    "car.apply_control(carla.VehicleControl(throttle=0, steer=0))\n"
   ]
  },
  {
   "cell_type": "markdown",
   "metadata": {},
   "source": [
    "## Control along path"
   ]
  },
  {
   "cell_type": "code",
   "execution_count": 1269,
   "metadata": {},
   "outputs": [
    {
     "name": "stdout",
     "output_type": "stream",
     "text": [
      "planning path\n",
      "Found obs =  True\n",
      "dist =  15\n",
      "planning path\n",
      "Found obs =  False\n",
      "dist =  25\n",
      "planning path\n",
      "Found obs =  False\n",
      "dist =  25\n",
      "planning path\n",
      "Found obs =  True\n",
      "dist =  21\n",
      "planning path\n",
      "Found obs =  True\n",
      "dist =  4\n"
     ]
    },
    {
     "ename": "KeyboardInterrupt",
     "evalue": "",
     "output_type": "error",
     "traceback": [
      "\u001b[0;31m---------------------------------------------------------------------------\u001b[0m",
      "\u001b[0;31mKeyboardInterrupt\u001b[0m                         Traceback (most recent call last)",
      "\u001b[0;32m<ipython-input-1269-00829caae332>\u001b[0m in \u001b[0;36m<module>\u001b[0;34m\u001b[0m\n\u001b[1;32m     25\u001b[0m         \u001b[0;32mbreak\u001b[0m\u001b[0;34m\u001b[0m\u001b[0;34m\u001b[0m\u001b[0m\n\u001b[1;32m     26\u001b[0m \u001b[0;34m\u001b[0m\u001b[0m\n\u001b[0;32m---> 27\u001b[0;31m     \u001b[0mtck\u001b[0m \u001b[0;34m=\u001b[0m \u001b[0mworld\u001b[0m\u001b[0;34m.\u001b[0m\u001b[0mwait_for_tick\u001b[0m\u001b[0;34m(\u001b[0m\u001b[0;36m1\u001b[0m\u001b[0;34m)\u001b[0m\u001b[0;34m\u001b[0m\u001b[0;34m\u001b[0m\u001b[0m\n\u001b[0m\u001b[1;32m     28\u001b[0m     \u001b[0mt\u001b[0m \u001b[0;34m=\u001b[0m \u001b[0mcar\u001b[0m\u001b[0;34m.\u001b[0m\u001b[0mget_transform\u001b[0m\u001b[0;34m(\u001b[0m\u001b[0;34m)\u001b[0m\u001b[0;34m\u001b[0m\u001b[0;34m\u001b[0m\u001b[0m\n\u001b[1;32m     29\u001b[0m     \u001b[0mv\u001b[0m \u001b[0;34m=\u001b[0m \u001b[0mcar\u001b[0m\u001b[0;34m.\u001b[0m\u001b[0mget_velocity\u001b[0m\u001b[0;34m(\u001b[0m\u001b[0;34m)\u001b[0m\u001b[0;34m\u001b[0m\u001b[0;34m\u001b[0m\u001b[0m\n",
      "\u001b[0;31mKeyboardInterrupt\u001b[0m: "
     ]
    }
   ],
   "source": [
    "K = np.array([0.1, 0.25]).reshape((1, 2))\n",
    "L = 3.5\n",
    "ctrl = StateFeedbackController(K, L, path)\n",
    "car_states = []\n",
    "tl = []\n",
    "i = 0\n",
    "while True:\n",
    "    \n",
    "    if i % 250 == 0:\n",
    "        print(\"planning path\")\n",
    "        #car.apply_control(carla.VehicleControl(throttle=0, steer=0))\n",
    "        plan = calculate_path(route=route, actors=actors)\n",
    "        route = plan[\"route\"]\n",
    "        path = plan[\"path\"]\n",
    "        ctrl = StateFeedbackController(K, L, path)\n",
    "        T = 2  # Time before line dissapears, negative for never\n",
    "        s = np.linspace(0, path.length, 500)\n",
    "        for s1, s2 in zip(s[:-1], s[1:]):\n",
    "            s1_loc = carla.Location(x=float(path.x(s1)), y=float(path.y(s1)), z=0.5)\n",
    "            s2_loc = carla.Location(x=float(path.x(s2)), y=float(path.y(s2)), z=0.5)\n",
    "            world.debug.draw_line(s1_loc, s2_loc, thickness=0.35, \n",
    "                                  life_time=T, color=carla.Color(b=255))\n",
    "        \n",
    "    if ctrl.s0 > path.length-5:\n",
    "        break\n",
    "    \n",
    "    tck = world.wait_for_tick(1)\n",
    "    t = car.get_transform()\n",
    "    v = car.get_velocity()\n",
    "    v = np.sqrt(v.x**2+v.y**2+v.z**2)\n",
    "    w = np.array([t.location.x, t.location.y, t.rotation.yaw*np.pi/180.0, v])\n",
    "    car_states.append(w)\n",
    "\n",
    "    # Compute control signal and apply to car\n",
    "    u = ctrl.u(tck.timestamp.elapsed_seconds, w)\n",
    "    car.apply_control(carla.VehicleControl(throttle=0.4, steer=u[0]))\n",
    "    \n",
    "    i = i + 1"
   ]
  },
  {
   "cell_type": "code",
   "execution_count": null,
   "metadata": {},
   "outputs": [],
   "source": []
  },
  {
   "cell_type": "markdown",
   "metadata": {},
   "source": [
    "## Stop car"
   ]
  },
  {
   "cell_type": "code",
   "execution_count": 889,
   "metadata": {},
   "outputs": [],
   "source": []
  },
  {
   "cell_type": "markdown",
   "metadata": {},
   "source": [
    "## Cleanup"
   ]
  },
  {
   "cell_type": "markdown",
   "metadata": {},
   "source": [
    "If you have kept pointers to all created actors, cleanup is simple"
   ]
  },
  {
   "cell_type": "code",
   "execution_count": 1259,
   "metadata": {},
   "outputs": [
    {
     "name": "stdout",
     "output_type": "stream",
     "text": [
      "[]\n"
     ]
    }
   ],
   "source": [
    "print(actors)\n",
    "for a in actors:\n",
    "    a.destroy()\n",
    "actors = []"
   ]
  },
  {
   "cell_type": "code",
   "execution_count": 1204,
   "metadata": {},
   "outputs": [
    {
     "data": {
      "text/plain": [
       "False"
      ]
     },
     "execution_count": 1204,
     "metadata": {},
     "output_type": "execute_result"
    }
   ],
   "source": [
    "car_obs.destroy()"
   ]
  },
  {
   "cell_type": "code",
   "execution_count": 1205,
   "metadata": {},
   "outputs": [
    {
     "data": {
      "text/plain": [
       "False"
      ]
     },
     "execution_count": 1205,
     "metadata": {},
     "output_type": "execute_result"
    }
   ],
   "source": [
    "car.destroy()"
   ]
  },
  {
   "cell_type": "code",
   "execution_count": null,
   "metadata": {},
   "outputs": [],
   "source": []
  },
  {
   "cell_type": "code",
   "execution_count": null,
   "metadata": {},
   "outputs": [],
   "source": []
  },
  {
   "cell_type": "code",
   "execution_count": null,
   "metadata": {},
   "outputs": [],
   "source": []
  }
 ],
 "metadata": {
  "kernelspec": {
   "display_name": "Python 3",
   "language": "python",
   "name": "python3"
  },
  "language_info": {
   "codemirror_mode": {
    "name": "ipython",
    "version": 3
   },
   "file_extension": ".py",
   "mimetype": "text/x-python",
   "name": "python",
   "nbconvert_exporter": "python",
   "pygments_lexer": "ipython3",
   "version": "3.6.9"
  }
 },
 "nbformat": 4,
 "nbformat_minor": 4
}
