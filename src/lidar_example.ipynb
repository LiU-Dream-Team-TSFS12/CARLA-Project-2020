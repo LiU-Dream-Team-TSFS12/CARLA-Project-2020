{
 "cells": [
  {
   "cell_type": "markdown",
   "metadata": {},
   "source": [
    "# TSFS12: Spawn a vehicle and attach a lidar"
   ]
  },
  {
   "cell_type": "markdown",
   "metadata": {},
   "source": [
    "Small example how to attach a sensor, in this case a lidar. For more details, look in the example code ```manual_control.py```."
   ]
  },
  {
   "cell_type": "code",
   "execution_count": 1,
   "metadata": {},
   "outputs": [],
   "source": [
    "import carla\n",
    "import numpy as np\n",
    "import random\n",
    "import matplotlib.pyplot as plt"
   ]
  },
  {
   "cell_type": "code",
   "execution_count": 2,
   "metadata": {},
   "outputs": [
    {
     "name": "stdout",
     "output_type": "stream",
     "text": [
      "Using matplotlib backend: TkAgg\n"
     ]
    }
   ],
   "source": [
    "%matplotlib"
   ]
  },
  {
   "cell_type": "markdown",
   "metadata": {},
   "source": [
    "## Connect to a running Carla server and get main pointers"
   ]
  },
  {
   "cell_type": "markdown",
   "metadata": {},
   "source": [
    "Get pointer to Carla and load a world"
   ]
  },
  {
   "cell_type": "code",
   "execution_count": 3,
   "metadata": {},
   "outputs": [],
   "source": [
    "HOST = 'localhost'\n",
    "PORT = 2000\n",
    "client = carla.Client(HOST, PORT)\n",
    "client.set_timeout(2.0)"
   ]
  },
  {
   "cell_type": "markdown",
   "metadata": {},
   "source": [
    "Get pointers to the world and blueprint library (templates to all actors and vehicles)."
   ]
  },
  {
   "cell_type": "code",
   "execution_count": 4,
   "metadata": {},
   "outputs": [],
   "source": [
    "world = client.get_world()\n",
    "bpl = world.get_blueprint_library()\n",
    "sp = world.get_spectator()  # Get pointer to the spectator, i.e., camera in the server window"
   ]
  },
  {
   "cell_type": "markdown",
   "metadata": {},
   "source": [
    "Get information about the spectator, e.g., position and orientation. Experiment by moving around in the world and see how things change."
   ]
  },
  {
   "cell_type": "markdown",
   "metadata": {},
   "source": [
    "### Spawn a car in the world"
   ]
  },
  {
   "cell_type": "markdown",
   "metadata": {},
   "source": [
    "Find a random type of Audi in the library of available vehicles."
   ]
  },
  {
   "cell_type": "code",
   "execution_count": 5,
   "metadata": {},
   "outputs": [
    {
     "name": "stdout",
     "output_type": "stream",
     "text": [
      "Available Audis\n",
      "vehicle.audi.a2\n",
      "vehicle.audi.etron\n",
      "vehicle.audi.tt\n",
      "Random selection: vehicle.audi.a2\n"
     ]
    }
   ],
   "source": [
    "print('Available Audis')\n",
    "for c in bpl.filter('vehicle.audi.*'):\n",
    "    print(c.id)\n",
    "bp = random.choice(bpl.filter('vehicle.audi.*'))\n",
    "print('Random selection: {}'.format(bp.id))"
   ]
  },
  {
   "cell_type": "markdown",
   "metadata": {},
   "source": [
    "Spawn a vehicle at the position of the spectator"
   ]
  },
  {
   "cell_type": "code",
   "execution_count": 6,
   "metadata": {},
   "outputs": [],
   "source": [
    "actors = []\n",
    "tf = sp.get_transform()\n",
    "tf.location.z = 1\n",
    "car = world.spawn_actor(bp, carla.Transform(tf.location))\n",
    "actors.append(car)"
   ]
  },
  {
   "cell_type": "code",
   "execution_count": 7,
   "metadata": {},
   "outputs": [],
   "source": [
    "tf.location.z += 15\n",
    "sp.set_transform(tf)"
   ]
  },
  {
   "cell_type": "markdown",
   "metadata": {},
   "source": [
    "## Lidar"
   ]
  },
  {
   "cell_type": "markdown",
   "metadata": {},
   "source": [
    "Attach a lidar sensor"
   ]
  },
  {
   "cell_type": "code",
   "execution_count": 8,
   "metadata": {},
   "outputs": [],
   "source": [
    "lidar_bpl = bpl.filter('sensor.lidar.ray_cast')[0]\n",
    "lidar_bpl.set_attribute('range', '5000')\n",
    "lidar = world.spawn_actor(lidar_bpl, \n",
    "                  carla.Transform(carla.Location(x=2.5, z=1), \n",
    "                                  carla.Rotation(pitch=0)),\n",
    "                  attach_to=car)\n",
    "actors.append(lidar)"
   ]
  },
  {
   "cell_type": "markdown",
   "metadata": {},
   "source": [
    "Define a simple callback and start listining. Don't listen too long since it accumulates all data."
   ]
  },
  {
   "cell_type": "code",
   "execution_count": 9,
   "metadata": {},
   "outputs": [],
   "source": [
    "lidar_data = []\n",
    "def lidar_callback(data):\n",
    "        lidar_data.append(data)\n",
    "lidar.listen(lidar_callback)"
   ]
  },
  {
   "cell_type": "markdown",
   "metadata": {},
   "source": [
    "Stop listening"
   ]
  },
  {
   "cell_type": "code",
   "execution_count": 10,
   "metadata": {},
   "outputs": [
    {
     "name": "stdout",
     "output_type": "stream",
     "text": [
      "Number of lidar frames recorded: 853\n"
     ]
    }
   ],
   "source": [
    "lidar.stop()\n",
    "print('Number of lidar frames recorded: {}'.format(len(lidar_data)))"
   ]
  },
  {
   "cell_type": "markdown",
   "metadata": {},
   "source": [
    "Make a simple plot where all recorded points are in the same plot."
   ]
  },
  {
   "cell_type": "code",
   "execution_count": 11,
   "metadata": {},
   "outputs": [],
   "source": [
    "plt.figure(10, clear=True)\n",
    "for di in lidar_data:\n",
    "    points = np.frombuffer(di.raw_data, dtype=np.dtype('f4'))\n",
    "    points = np.reshape(points, (int(points.shape[0] / 3), 3))\n",
    "    h = points[:, 2] > 0\n",
    "    plt.plot(points[h, 0], points[h, 1], 'k.', markersize=0.3)\n",
    "_ = plt.axis([-10, 10, -10, 10])"
   ]
  },
  {
   "cell_type": "markdown",
   "metadata": {},
   "source": [
    "Destroy all actors"
   ]
  },
  {
   "cell_type": "code",
   "execution_count": 12,
   "metadata": {},
   "outputs": [],
   "source": [
    "for a in actors:\n",
    "    a.destroy()"
   ]
  },
  {
   "cell_type": "code",
   "execution_count": null,
   "metadata": {},
   "outputs": [],
   "source": []
  }
 ],
 "metadata": {
  "kernelspec": {
   "display_name": "Python 3",
   "language": "python",
   "name": "python3"
  },
  "language_info": {
   "codemirror_mode": {
    "name": "ipython",
    "version": 3
   },
   "file_extension": ".py",
   "mimetype": "text/x-python",
   "name": "python",
   "nbconvert_exporter": "python",
   "pygments_lexer": "ipython3",
   "version": "3.6.9"
  }
 },
 "nbformat": 4,
 "nbformat_minor": 4
}
