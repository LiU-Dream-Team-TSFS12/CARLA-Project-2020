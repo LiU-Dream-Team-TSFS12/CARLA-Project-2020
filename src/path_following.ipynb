{
 "cells": [
  {
   "cell_type": "markdown",
   "metadata": {},
   "source": [
    "# TSFS12: Simple startup use-case in Carla -- plan a mission and implement a state-feedback path follower"
   ]
  },
  {
   "cell_type": "markdown",
   "metadata": {},
   "source": [
    "The simulator CARLA is open-source and can be downloaded and run on Linux and Windows. It does require a decent GPU card and computational power. In the computer labs, only computers in room Olympen are powerful enough."
   ]
  },
  {
   "cell_type": "markdown",
   "metadata": {},
   "source": [
    "## Configure Python environment "
   ]
  },
  {
   "cell_type": "markdown",
   "metadata": {},
   "source": [
    "The current version of the Carla Python API works best with Python version 3.5, so make sure you run the correct version. If you activate the pre-prepared virtual environment, you get the correct python version and all packages needed to get up and running. To activate the environment run the folloowing command in the terminal:\n",
    "```\n",
    "source /courses/tsfs12/carla_env/bin/activate\n",
    "```"
   ]
  },
  {
   "cell_type": "markdown",
   "metadata": {},
   "source": [
    "Finally, to run the code in this notebook you need to make sure Carla specific Python modules are in the module path. You can set the environment variable ```PYTHONPATH``` as\n",
    "```\n",
    "export PYTHONPATH=/courses/tsfs12/CARLA/PythonAPI/carla/dist/carla-0.9.6-py3.5-linux-x86_64.egg:/courses/tsfs12/CARLA/PythonAPI/carla\n",
    "```\n",
    "and then you can start JupyterLab as normal\n",
    "```\n",
    "jupyter lab\n",
    "```"
   ]
  },
  {
   "cell_type": "markdown",
   "metadata": {},
   "source": [
    "For convencience, you may add corresponding line in your ```.bashrc``` file so you do not have to ensure paths every time."
   ]
  },
  {
   "cell_type": "markdown",
   "metadata": {},
   "source": [
    "I have distributed this information in Jupyter Notebooks but you may want to implement your solutions in regular python scripts. I have implemented the code in this notebook as a script ```path_following.py``` and you run it from the terminal with the command\n",
    "```\n",
    "python path_following.py\n",
    "```"
   ]
  },
  {
   "cell_type": "markdown",
   "metadata": {},
   "source": [
    "## How to find information"
   ]
  },
  {
   "cell_type": "markdown",
   "metadata": {},
   "source": [
    "You will need to read carla documentation, available at the carla homepage https://http://carla.org/. Start\n",
    " with the documentation at https://carla.readthedocs.io/ and I strongly recommend looking through the tutorials at https://carla.readthedocs.io/en/latest/python_api_tutorial/. When developing, you will use the Python API reference https://carla.readthedocs.io/en/latest/python_api/. I also strongly recommend to look through the examples in the Carla distribution that can be found in ```/courses/tsfs12/CARLA/PythonAPI/examples```."
   ]
  },
  {
   "cell_type": "markdown",
   "metadata": {},
   "source": [
    "## Initial imports"
   ]
  },
  {
   "cell_type": "code",
   "execution_count": 1,
   "metadata": {},
   "outputs": [],
   "source": [
    "import carla\n",
    "import numpy as np\n",
    "import matplotlib.pyplot as plt\n",
    "import seaborn as sns\n",
    "import sys\n",
    "from agents.navigation.global_route_planner_dao import GlobalRoutePlannerDAO\n",
    "from agents.navigation.global_route_planner import GlobalRoutePlanner\n",
    "from algs import splinepath\n",
    "from agents.navigation.local_planner import RoadOption"
   ]
  },
  {
   "cell_type": "code",
   "execution_count": 2,
   "metadata": {},
   "outputs": [],
   "source": [
    "rg = np.random.default_rng()"
   ]
  },
  {
   "cell_type": "markdown",
   "metadata": {},
   "source": [
    "## Connect to a running Carla server and get main pointers"
   ]
  },
  {
   "cell_type": "markdown",
   "metadata": {},
   "source": [
    "Get pointer to Carla and load a world"
   ]
  },
  {
   "cell_type": "code",
   "execution_count": 3,
   "metadata": {},
   "outputs": [],
   "source": [
    "HOST = 'localhost'\n",
    "PORT = 2000\n",
    "client = carla.Client(HOST, PORT)\n",
    "client.set_timeout(2.0)"
   ]
  },
  {
   "cell_type": "code",
   "execution_count": 4,
   "metadata": {},
   "outputs": [
    {
     "ename": "RuntimeError",
     "evalue": "failed to connect to newly created map",
     "output_type": "error",
     "traceback": [
      "\u001b[0;31m---------------------------------------------------------------------------\u001b[0m",
      "\u001b[0;31mRuntimeError\u001b[0m                              Traceback (most recent call last)",
      "\u001b[0;32m<ipython-input-4-aeb425a34071>\u001b[0m in \u001b[0;36m<module>\u001b[0;34m\u001b[0m\n\u001b[0;32m----> 1\u001b[0;31m \u001b[0mclient\u001b[0m\u001b[0;34m.\u001b[0m\u001b[0mload_world\u001b[0m\u001b[0;34m(\u001b[0m\u001b[0;34m'Town03'\u001b[0m\u001b[0;34m)\u001b[0m  \u001b[0;31m# Town01-Town07 are available\u001b[0m\u001b[0;34m\u001b[0m\u001b[0;34m\u001b[0m\u001b[0m\n\u001b[0m",
      "\u001b[0;31mRuntimeError\u001b[0m: failed to connect to newly created map"
     ]
    }
   ],
   "source": [
    "client.load_world('Town03')  # Town01-Town07 are available"
   ]
  },
  {
   "cell_type": "markdown",
   "metadata": {},
   "source": [
    "Get pointers to the world and blueprint library (templates to all actors and vehicles)."
   ]
  },
  {
   "cell_type": "code",
   "execution_count": 5,
   "metadata": {},
   "outputs": [],
   "source": [
    "world = client.get_world()\n",
    "bpl = world.get_blueprint_library()\n",
    "sp = world.get_spectator()  # Get pointer to the spectator, i.e., camera in the server window"
   ]
  },
  {
   "cell_type": "markdown",
   "metadata": {},
   "source": [
    "It is easy to manipulate the world, e.g., change the wather."
   ]
  },
  {
   "cell_type": "code",
   "execution_count": 6,
   "metadata": {},
   "outputs": [],
   "source": [
    "weather = world.get_weather()\n",
    "world.set_weather(weather.ClearNoon)"
   ]
  },
  {
   "cell_type": "markdown",
   "metadata": {},
   "source": [
    "Get information about the spectator, e.g., position and orientation. Experiment by moving around in the world and see how things change."
   ]
  },
  {
   "cell_type": "code",
   "execution_count": 7,
   "metadata": {},
   "outputs": [
    {
     "name": "stdout",
     "output_type": "stream",
     "text": [
      "Transform(Location(x=44.070000, y=-5.840000, z=4.150000), Rotation(pitch=0.000000, yaw=173.198349, roll=0.000000))\n"
     ]
    }
   ],
   "source": [
    "print(sp.get_transform())"
   ]
  },
  {
   "cell_type": "markdown",
   "metadata": {},
   "source": [
    "## A simple first test-case -- path following in an empty world"
   ]
  },
  {
   "cell_type": "markdown",
   "metadata": {},
   "source": [
    "### Spawn a car in the world"
   ]
  },
  {
   "cell_type": "markdown",
   "metadata": {},
   "source": [
    "This is an example planning mission (defined for Town03). Positions specified using the carla ```Location``` type."
   ]
  },
  {
   "cell_type": "code",
   "execution_count": 8,
   "metadata": {},
   "outputs": [],
   "source": [
    "p1 = carla.Location(x=200, y=-6, z=1)  # Start point\n",
    "p2 = carla.Location(x=142.1, y=64, z=1)  # End point"
   ]
  },
  {
   "cell_type": "markdown",
   "metadata": {},
   "source": [
    "Find a random type of Audi in the library of available vehicles."
   ]
  },
  {
   "cell_type": "code",
   "execution_count": 9,
   "metadata": {},
   "outputs": [
    {
     "name": "stdout",
     "output_type": "stream",
     "text": [
      "Available Audis\n",
      "vehicle.audi.a2\n",
      "vehicle.audi.etron\n",
      "vehicle.audi.tt\n",
      "Random selection: vehicle.audi.a2\n"
     ]
    }
   ],
   "source": [
    "print('Available Audis')\n",
    "for c in bpl.filter('vehicle.audi.*'):\n",
    "    print(c.id)\n",
    "bp = rg.choice(bpl.filter('vehicle.audi.*'))\n",
    "print('Random selection: {}'.format(bp.id))"
   ]
  },
  {
   "cell_type": "markdown",
   "metadata": {},
   "source": [
    "Spawn the car at the start point. Go and look for it in the world. It is also a good idea to keep track of created actors in the world so that you can clean up at the end."
   ]
  },
  {
   "cell_type": "code",
   "execution_count": 10,
   "metadata": {},
   "outputs": [],
   "source": [
    "actors = []\n",
    "car = world.spawn_actor(bp, carla.Transform(p1))\n",
    "actors.append(car)"
   ]
  },
  {
   "cell_type": "markdown",
   "metadata": {},
   "source": [
    "### Plan a mission"
   ]
  },
  {
   "cell_type": "markdown",
   "metadata": {},
   "source": [
    "Make a plan using the carla provided A* planner (you are welcome to integrate your planner from hand-in 1 if you like but you do not have to). Also create a ```SplinePath ``` object of the resulting plan."
   ]
  },
  {
   "cell_type": "code",
   "execution_count": 11,
   "metadata": {},
   "outputs": [
    {
     "name": "stdout",
     "output_type": "stream",
     "text": [
      "Length of planned path: 825.16 m\n"
     ]
    }
   ],
   "source": [
    "RADIUS = 5\n",
    "map = world.get_map()\n",
    "dao = GlobalRoutePlannerDAO(map, sampling_resolution=RADIUS)\n",
    "rp = GlobalRoutePlanner(dao)\n",
    "rp.setup()\n",
    "route = rp.trace_route(p1, p2)\n",
    "\n",
    "## Create path object using nodes\n",
    "p = np.array([(ri[0].transform.location.x, ri[0].transform.location.y)\n",
    "              for ri in route])\n",
    "path = splinepath.SplinePath(p, min_grid=3)\n",
    "print('Length of planned path: {:.2f} m'.format(path.length))"
   ]
  },
  {
   "cell_type": "markdown",
   "metadata": {},
   "source": [
    "Move car and spectator to beginning of plan."
   ]
  },
  {
   "cell_type": "code",
   "execution_count": 12,
   "metadata": {},
   "outputs": [],
   "source": [
    "t = route[0][0].transform\n",
    "car.set_transform(t)\n",
    "t.location.z += 15  # 15 meters above car\n",
    "sp.set_transform(t)"
   ]
  },
  {
   "cell_type": "markdown",
   "metadata": {},
   "source": [
    "# Add a car(obstacle) on the calculated path"
   ]
  },
  {
   "cell_type": "code",
   "execution_count": 13,
   "metadata": {},
   "outputs": [],
   "source": [
    "car_obs = world.spawn_actor(bp, carla.Transform(route[5][0].transform.location))\n",
    "actors.append(car_obs)"
   ]
  },
  {
   "cell_type": "markdown",
   "metadata": {},
   "source": [
    "Plot the resulting plan in matplotlib"
   ]
  },
  {
   "cell_type": "code",
   "execution_count": 303,
   "metadata": {},
   "outputs": [
    {
     "data": {
      "image/png": "[encoded data removed]",
      "text/plain": [
       "<Figure size 432x288 with 1 Axes>"
      ]
     },
     "metadata": {
      "needs_background": "light"
     },
     "output_type": "display_data"
    }
   ],
   "source": [
    "s = np.linspace(0, path.length, 500)\n",
    "plt.figure(10, clear=True)\n",
    "_ = plt.plot(path.x(s), path.y(s))"
   ]
  },
  {
   "cell_type": "markdown",
   "metadata": {},
   "source": [
    "Plot the plan in the Carla simulator."
   ]
  },
  {
   "cell_type": "code",
   "execution_count": 304,
   "metadata": {},
   "outputs": [],
   "source": [
    "T = 10  # Time before line dissapears, negative for never\n",
    "for s1, s2 in zip(s[:-1], s[1:]):\n",
    "    s1_loc = carla.Location(x=float(path.x(s1)), y=float(path.y(s1)), z=0.5)\n",
    "    s2_loc = carla.Location(x=float(path.x(s2)), y=float(path.y(s2)), z=0.5)\n",
    "    world.debug.draw_line(s1_loc, s2_loc, thickness=0.35, \n",
    "                          life_time=T, color=carla.Color(b=255))"
   ]
  },
  {
   "cell_type": "markdown",
   "metadata": {},
   "source": [
    "### Implement a simple path following controller similar to hand-in 3"
   ]
  },
  {
   "cell_type": "markdown",
   "metadata": {},
   "source": [
    "Using a simple state-feedback controller as a path follower. Using similar structure as in hand-in 3."
   ]
  },
  {
   "cell_type": "code",
   "execution_count": 305,
   "metadata": {},
   "outputs": [],
   "source": [
    "\n",
    "class StateFeedbackController:\n",
    "    def __init__(self, K, L, path=None, goal_tol=1):\n",
    "        self.plan = path\n",
    "        self.K = K\n",
    "        self.goal_tol = goal_tol\n",
    "        self.d = []\n",
    "        self.delta = []\n",
    "        self.theta_e = []\n",
    "        self.s_p = []\n",
    "        self.L = L\n",
    "        self.s0 = 0\n",
    "\n",
    "        self.t = []\n",
    "        self.w = []\n",
    "\n",
    "    def heading_error(self, heading, s):\n",
    "        \"\"\"Compute theta error\"\"\"\n",
    "        heading0, nc = self.plan.heading(s)\n",
    "        cos_alpha = heading.dot(heading0)\n",
    "        sin_alpha = np.float(np.cross(heading0, heading))\n",
    "\n",
    "        theta_e = np.arctan2(sin_alpha, cos_alpha)\n",
    "        return theta_e\n",
    "\n",
    "    def u(self, t, w):\n",
    "        def glob_stab_fact(x):\n",
    "            \"\"\"Series expansion of sin(x)/x around x=0.\"\"\"\n",
    "            return 1 - x**2/6 + x**4/120 - x**6/5040\n",
    "\n",
    "        a = 0\n",
    "        x, y, theta, v = w\n",
    "        self.w.append(w)\n",
    "        p_car = w[0:2]\n",
    "        si, d = self.plan.project(p_car, self.s0, ds=2, s_lim=20)\n",
    "        self.s0 = si\n",
    "\n",
    "        heading = np.array([np.cos(theta), np.sin(theta)])\n",
    "        theta_e = self.heading_error(heading, si)\n",
    "\n",
    "        # No feed-forward term\n",
    "        u =  - self.K.dot(np.array([d*glob_stab_fact(theta_e), theta_e]))[0]\n",
    "        delta = np.max((-1.0, np.min((1.0, self.L*u))))\n",
    "        \n",
    "        self.d.append(d)\n",
    "        self.delta.append(delta)\n",
    "        self.s_p.append(si)\n",
    "        self.theta_e.append(theta_e)\n",
    "        self.t.append(t)\n",
    "\n",
    "        return np.array([delta, a])\n",
    "    \n",
    "    def run(self, t, w):\n",
    "        p_goal = self.plan.path[-1, :]\n",
    "        p_car = w[0:2]\n",
    "        dp = p_car - p_goal\n",
    "        dist = np.sqrt(dp.dot(dp))\n",
    "        if dist < self.goal_tol:\n",
    "            return False\n",
    "        else:\n",
    "            return True"
   ]
  },
  {
   "cell_type": "code",
   "execution_count": 314,
   "metadata": {},
   "outputs": [],
   "source": [
    "def calculate_path():\n",
    "    \n",
    "    def _is_equal(wp1, wp2, offset=0.2)\n",
    "        \n",
    "            \n",
    "            \n",
    "        \n",
    "    #car_wp = map.get_waypoint(car.get_location(),project_to_road=True, lane_type=(carla.LaneType.Driving))\n",
    "    \n",
    "    obstacles = [] #Waypoints of all obstacles, should be exchanged with waypoint generated by RPLidar\n",
    "    for i in range(1, len(actors)):\n",
    "        obstacles.append(map.get_waypoint(actors[i]))\n",
    "     \n",
    "    lanes = [\"right\", \"left\", \"same\"]\n",
    "    score = [0,0,0]\n",
    "        \n",
    "    for i in range(len(lanes)):\n",
    "        lane = lanes[i]\n",
    "        if lane == \"same\":\n",
    "            wp = car[0]\n",
    "        elif lane == \"right\":\n",
    "            wp = car[0].get_left_lane()\n",
    "        else:\n",
    "            wp = car[0].get_right_lane()\n",
    "            \n",
    "        found_obstacle = False\n",
    "        while True:\n",
    "            if wp.is_junction or wp == None:\n",
    "                score[i] = 0\n",
    "                break\n",
    "            for obstacle in obstacles:\n",
    "                if is_equal(wp.transform.location, obstacle.transform.location):\n",
    "                    score[i] = get_distance_diff(wp.transform.location, obstacle.transform.location) + get_velocity_diff(wp.get_velocity, obstacle.get_velocity)\n",
    "                    found_obstacle = True\n",
    "                    break\n",
    "            if found_obstacle:\n",
    "                break\n",
    "            else:\n",
    "                wp = wp.next(RADIUS)[0]\n",
    "    \n",
    "    available_lanes = car[0].lane_change\n",
    "    \n",
    "\n",
    "    new_lane = \"same\"\n",
    "    both = carla.LaneChange.Both\n",
    "    left = carla.LaneChange.Left\n",
    "    \n",
    "    if lane_change == left or lane_change == both  :\n",
    "        new_lane = \"same\"\n",
    "    \n",
    "                \n",
    "    \n",
    "                \n",
    "                \n",
    "                    \n",
    "                 \n",
    "                       \n",
    "                       \n",
    "                       \n",
    "                       \n",
    "                       \n",
    "    #Check if there is cars in the same lane with a radius of five waypoints\n",
    "    car_wp = car_wp.next(RADIUS)[0]\n",
    "    \n",
    "    \n",
    "        for obs_loc in obs_wps:\n",
    "            car_location = car_wp.transform.location\n",
    "            if abs(car_location.x - obs_loc.x) < 0.2 and abs(car_location.y - obs_loc.y) < 0.2: \n",
    "                change_lane = True\n",
    "                i = 5\n",
    "                break\n",
    "        wp = wp[0].next(RADIUS)\n",
    "        i = i+1\n",
    "        \n",
    "    print(change_lane)\n",
    "    \n",
    "    if(change_lane):\n",
    "        index = -1\n",
    "        #Get wp index in route\n",
    "        for i in range(0, len(route)):\n",
    "            loc = route[i][0].transform.location\n",
    "            wp_loc = wp[0].transform.location\n",
    "            if( abs(wp_loc.x - loc.x) < 0.2 and abs(wp_loc.y - loc.y) < 0.2):\n",
    "                index = i\n",
    "                break\n",
    "        print(\"index is \", index)\n",
    "        print(\"lane change is \", route[index][0].lane_change)\n",
    "        print(\"type is \", type(route[index][0].lane_change))\n",
    "        if index != -1 and route[index][0].lane_change == carla.LaneChange.Left:\n",
    "            print(\"changing lane\")\n",
    "            route[i] = (route[i][0], RoadOption.CHANGELANELEFT)\n",
    "    \n",
    "    \n",
    "        \n",
    "    \n",
    "        \n"
   ]
  },
  {
   "cell_type": "markdown",
   "metadata": {},
   "source": [
    "### Setup world for simulation"
   ]
  },
  {
   "cell_type": "code",
   "execution_count": 315,
   "metadata": {},
   "outputs": [],
   "source": [
    "# settings = world.get_settings()\n",
    "# settings.fixed_delta_seconds = None # 0.05  # 20 Hz\n",
    "# settings.synchronous_mode = False\n",
    "# _ = world.apply_settings(settings)"
   ]
  },
  {
   "cell_type": "markdown",
   "metadata": {},
   "source": [
    "Locate the car in the beginning of the plan and set speed to 0."
   ]
  },
  {
   "cell_type": "code",
   "execution_count": 316,
   "metadata": {},
   "outputs": [],
   "source": [
    "init_transform = route[0][0].transform # Set car in initial position of the plan\n",
    "car.set_transform(init_transform)\n",
    "car.apply_control(carla.VehicleControl(throttle=0, steer=0))"
   ]
  },
  {
   "cell_type": "markdown",
   "metadata": {},
   "source": [
    "Run the path follower"
   ]
  },
  {
   "cell_type": "code",
   "execution_count": null,
   "metadata": {},
   "outputs": [],
   "source": [
    "K = np.array([0.1, 0.25]).reshape((1, 2))\n",
    "L = 3.5\n",
    "ctrl = StateFeedbackController(K, L, path)\n",
    "car_states = []\n",
    "tl = []\n",
    "while ctrl.s0 < path.length-5:\n",
    "    tck = world.wait_for_tick(1)\n",
    "    t = car.get_transform()\n",
    "    v = car.get_velocity()\n",
    "    v = np.sqrt(v.x**2+v.y**2+v.z**2)\n",
    "    w = np.array([t.location.x, t.location.y, t.rotation.yaw*np.pi/180.0, v])\n",
    "    car_states.append(w)\n",
    "\n",
    "    # Compute control signal and apply to car\n",
    "    u = ctrl.u(tck.timestamp.elapsed_seconds, w)\n",
    "    car.apply_control(carla.VehicleControl(throttle=0.7, steer=u[0]))\n",
    "    calculate_path()\n",
    "\n",
    "# Stop car after finished route    \n",
    "car.apply_control(carla.VehicleControl(throttle=0, steer=0))\n",
    "car_states = np.array(car_states)\n",
    "ctrl.t = np.array(ctrl.t)-ctrl.t[0]\n",
    "\n",
    "print('Mean Ts = {:.1f} msek. std-dev = {:.1f} msek'.format(\n",
    "    np.mean(np.diff(ctrl.t))*1000, np.std(np.diff(ctrl.t))*1000))"
   ]
  },
  {
   "cell_type": "markdown",
   "metadata": {},
   "source": [
    "### Plot some results"
   ]
  },
  {
   "cell_type": "code",
   "execution_count": 22,
   "metadata": {},
   "outputs": [
    {
     "data": {
      "image/png": "[encoded data removed]",
      "text/plain": [
       "<Figure size 432x288 with 1 Axes>"
      ]
     },
     "metadata": {
      "needs_background": "light"
     },
     "output_type": "display_data"
    },
    {
     "data": {
      "image/png": "[encoded data removed]",
      "text/plain": [
       "<Figure size 432x288 with 1 Axes>"
      ]
     },
     "metadata": {
      "needs_background": "light"
     },
     "output_type": "display_data"
    },
    {
     "data": {
      "image/png": "[encoded data removed]",
      "text/plain": [
       "<Figure size 432x288 with 1 Axes>"
      ]
     },
     "metadata": {
      "needs_background": "light"
     },
     "output_type": "display_data"
    }
   ],
   "source": [
    "s = np.linspace(0, path.length, 500)\n",
    "plt.figure(20, clear=True)\n",
    "plt.plot(path.x(s), path.y(s), 'b', label='Planned path')\n",
    "plt.plot(car_states[:, 0], car_states[:, 1], 'r', label='Actual path')\n",
    "plt.xlabel('t [s]')\n",
    "sns.despine()\n",
    "\n",
    "plt.figure(21, clear=True)\n",
    "plt.plot(ctrl.t, car_states[:, 3]*3.6)\n",
    "plt.ylabel('km/h')\n",
    "plt.title('Speed')\n",
    "plt.xlabel('t [s]')\n",
    "sns.despine()\n",
    "\n",
    "plt.figure(22, clear=True)\n",
    "plt.plot(ctrl.t, ctrl.delta)\n",
    "plt.ylabel('%')\n",
    "plt.title('Steer action')\n",
    "plt.xlabel('t [s]')\n",
    "sns.despine()"
   ]
  },
  {
   "cell_type": "markdown",
   "metadata": {},
   "source": [
    "## Cleanup"
   ]
  },
  {
   "cell_type": "markdown",
   "metadata": {},
   "source": [
    "If you have kept pointers to all created actors, cleanup is simple"
   ]
  },
  {
   "cell_type": "code",
   "execution_count": 15,
   "metadata": {},
   "outputs": [],
   "source": [
    "for a in actors:\n",
    "    a.destroy()\n",
    "actors = []"
   ]
  },
  {
   "cell_type": "code",
   "execution_count": null,
   "metadata": {},
   "outputs": [],
   "source": []
  }
 ],
 "metadata": {
  "kernelspec": {
   "display_name": "Python 3",
   "language": "python",
   "name": "python3"
  },
  "language_info": {
   "codemirror_mode": {
    "name": "ipython",
    "version": 3
   },
   "file_extension": ".py",
   "mimetype": "text/x-python",
   "name": "python",
   "nbconvert_exporter": "python",
   "pygments_lexer": "ipython3",
   "version": "3.6.9"
  }
 },
 "nbformat": 4,
 "nbformat_minor": 4
}
