{
 "cells": [
  {
   "cell_type": "markdown",
   "metadata": {},
   "source": [
    "## Initial imports"
   ]
  },
  {
   "cell_type": "code",
   "execution_count": 1,
   "metadata": {},
   "outputs": [],
   "source": [
    "import carla\n",
    "import numpy as np\n",
    "import matplotlib.pyplot as plt\n",
    "import seaborn as sns\n",
    "import sys\n",
    "from agents.navigation.global_route_planner_dao import GlobalRoutePlannerDAO\n",
    "from agents.navigation.global_route_planner import GlobalRoutePlanner\n",
    "from algs import splinepath\n",
    "from agents.navigation.local_planner import RoadOption"
   ]
  },
  {
   "cell_type": "markdown",
   "metadata": {},
   "source": [
    "## Carla setup"
   ]
  },
  {
   "cell_type": "code",
   "execution_count": 2,
   "metadata": {},
   "outputs": [],
   "source": [
    "HOST = 'localhost'\n",
    "PORT = 2000\n",
    "client = carla.Client(HOST, PORT)\n",
    "client.set_timeout(2.0)"
   ]
  },
  {
   "cell_type": "code",
   "execution_count": 3,
   "metadata": {},
   "outputs": [
    {
     "ename": "RuntimeError",
     "evalue": "failed to connect to newly created map",
     "output_type": "error",
     "traceback": [
      "\u001b[0;31m---------------------------------------------------------------------------\u001b[0m",
      "\u001b[0;31mRuntimeError\u001b[0m                              Traceback (most recent call last)",
      "\u001b[0;32m<ipython-input-3-aeb425a34071>\u001b[0m in \u001b[0;36m<module>\u001b[0;34m\u001b[0m\n\u001b[0;32m----> 1\u001b[0;31m \u001b[0mclient\u001b[0m\u001b[0;34m.\u001b[0m\u001b[0mload_world\u001b[0m\u001b[0;34m(\u001b[0m\u001b[0;34m'Town03'\u001b[0m\u001b[0;34m)\u001b[0m  \u001b[0;31m# Town01-Town07 are available\u001b[0m\u001b[0;34m\u001b[0m\u001b[0;34m\u001b[0m\u001b[0m\n\u001b[0m",
      "\u001b[0;31mRuntimeError\u001b[0m: failed to connect to newly created map"
     ]
    }
   ],
   "source": [
    "client.load_world('Town03')  # Town01-Town07 are available"
   ]
  },
  {
   "cell_type": "code",
   "execution_count": 4,
   "metadata": {},
   "outputs": [
    {
     "ename": "RuntimeError",
     "evalue": "trying to access an expired episode; a new episode was started in the simulation but an object tried accessing the old one.",
     "output_type": "error",
     "traceback": [
      "\u001b[0;31m---------------------------------------------------------------------------\u001b[0m",
      "\u001b[0;31mRuntimeError\u001b[0m                              Traceback (most recent call last)",
      "\u001b[0;32m<ipython-input-4-e3ee6d63dfd6>\u001b[0m in \u001b[0;36m<module>\u001b[0;34m\u001b[0m\n\u001b[1;32m      1\u001b[0m \u001b[0mworld\u001b[0m \u001b[0;34m=\u001b[0m \u001b[0mclient\u001b[0m\u001b[0;34m.\u001b[0m\u001b[0mget_world\u001b[0m\u001b[0;34m(\u001b[0m\u001b[0;34m)\u001b[0m\u001b[0;34m\u001b[0m\u001b[0;34m\u001b[0m\u001b[0m\n\u001b[1;32m      2\u001b[0m \u001b[0mbpl\u001b[0m \u001b[0;34m=\u001b[0m \u001b[0mworld\u001b[0m\u001b[0;34m.\u001b[0m\u001b[0mget_blueprint_library\u001b[0m\u001b[0;34m(\u001b[0m\u001b[0;34m)\u001b[0m\u001b[0;34m\u001b[0m\u001b[0;34m\u001b[0m\u001b[0m\n\u001b[0;32m----> 3\u001b[0;31m \u001b[0msp\u001b[0m \u001b[0;34m=\u001b[0m \u001b[0mworld\u001b[0m\u001b[0;34m.\u001b[0m\u001b[0mget_spectator\u001b[0m\u001b[0;34m(\u001b[0m\u001b[0;34m)\u001b[0m  \u001b[0;31m# Get pointer to the spectator, i.e., camera in the server window\u001b[0m\u001b[0;34m\u001b[0m\u001b[0;34m\u001b[0m\u001b[0m\n\u001b[0m",
      "\u001b[0;31mRuntimeError\u001b[0m: trying to access an expired episode; a new episode was started in the simulation but an object tried accessing the old one."
     ]
    }
   ],
   "source": [
    "world = client.get_world()\n",
    "bpl = world.get_blueprint_library()\n",
    "sp = world.get_spectator()  # Get pointer to the spectator, i.e., camera in the server window"
   ]
  },
  {
   "cell_type": "code",
   "execution_count": null,
   "metadata": {},
   "outputs": [],
   "source": [
    "weather = world.get_weather()\n",
    "world.set_weather(weather.ClearNoon)"
   ]
  },
  {
   "cell_type": "markdown",
   "metadata": {},
   "source": [
    "## Initialize world"
   ]
  },
  {
   "cell_type": "code",
   "execution_count": null,
   "metadata": {},
   "outputs": [],
   "source": [
    "p1 = carla.Location(x=200, y=-6, z=1)  # Start point\n",
    "p2 = carla.Location(x=142.1, y=64, z=1)  # End point"
   ]
  },
  {
   "cell_type": "code",
   "execution_count": 5,
   "metadata": {},
   "outputs": [],
   "source": [
    "rg = np.random.default_rng()\n",
    "bp = rg.choice(bpl.filter('vehicle.audi.*'))"
   ]
  },
  {
   "cell_type": "code",
   "execution_count": null,
   "metadata": {},
   "outputs": [],
   "source": [
    "actors = []\n",
    "car = world.spawn_actor(bp, carla.Transform(p1))\n",
    "actors.append(car)"
   ]
  },
  {
   "cell_type": "markdown",
   "metadata": {},
   "source": [
    "## Plan route"
   ]
  },
  {
   "cell_type": "code",
   "execution_count": 6,
   "metadata": {},
   "outputs": [],
   "source": [
    "RADIUS = 5\n",
    "map = world.get_map()\n",
    "dao = GlobalRoutePlannerDAO(map, sampling_resolution=RADIUS)\n",
    "rp = GlobalRoutePlanner(dao)\n",
    "rp.setup()\n",
    "route = rp.trace_route(p1, p2)\n",
    "\n",
    "## Create path object using nodes\n",
    "p = np.array([(ri[0].transform.location.x, ri[0].transform.location.y)\n",
    "              for ri in route])\n",
    "path = splinepath.SplinePath(p, min_grid=3)"
   ]
  },
  {
   "cell_type": "code",
   "execution_count": null,
   "metadata": {},
   "outputs": [],
   "source": [
    "t = route[0][0].transform\n",
    "car.set_transform(t)\n",
    "t.location.z += 15  # 15 meters above car\n",
    "sp.set_transform(t)"
   ]
  },
  {
   "cell_type": "markdown",
   "metadata": {},
   "source": [
    "## Add an obstacle on the route"
   ]
  },
  {
   "cell_type": "code",
   "execution_count": 7,
   "metadata": {},
   "outputs": [
    {
     "ename": "RuntimeError",
     "evalue": "Spawn failed because of collision at spawn position",
     "output_type": "error",
     "traceback": [
      "\u001b[0;31m---------------------------------------------------------------------------\u001b[0m",
      "\u001b[0;31mRuntimeError\u001b[0m                              Traceback (most recent call last)",
      "\u001b[0;32m<ipython-input-7-9207aff90b90>\u001b[0m in \u001b[0;36m<module>\u001b[0;34m\u001b[0m\n\u001b[0;32m----> 1\u001b[0;31m \u001b[0mcar_obs\u001b[0m \u001b[0;34m=\u001b[0m \u001b[0mworld\u001b[0m\u001b[0;34m.\u001b[0m\u001b[0mspawn_actor\u001b[0m\u001b[0;34m(\u001b[0m\u001b[0mbp\u001b[0m\u001b[0;34m,\u001b[0m \u001b[0mcarla\u001b[0m\u001b[0;34m.\u001b[0m\u001b[0mTransform\u001b[0m\u001b[0;34m(\u001b[0m\u001b[0mroute\u001b[0m\u001b[0;34m[\u001b[0m\u001b[0;36m5\u001b[0m\u001b[0;34m]\u001b[0m\u001b[0;34m[\u001b[0m\u001b[0;36m0\u001b[0m\u001b[0;34m]\u001b[0m\u001b[0;34m.\u001b[0m\u001b[0mtransform\u001b[0m\u001b[0;34m.\u001b[0m\u001b[0mlocation\u001b[0m\u001b[0;34m)\u001b[0m\u001b[0;34m)\u001b[0m\u001b[0;34m\u001b[0m\u001b[0;34m\u001b[0m\u001b[0m\n\u001b[0m\u001b[1;32m      2\u001b[0m \u001b[0mactors\u001b[0m\u001b[0;34m.\u001b[0m\u001b[0mappend\u001b[0m\u001b[0;34m(\u001b[0m\u001b[0mcar_obs\u001b[0m\u001b[0;34m)\u001b[0m\u001b[0;34m\u001b[0m\u001b[0;34m\u001b[0m\u001b[0m\n",
      "\u001b[0;31mRuntimeError\u001b[0m: Spawn failed because of collision at spawn position"
     ]
    }
   ],
   "source": [
    "car_obs = world.spawn_actor(bp, carla.Transform(route[5][0].transform.location))\n",
    "actors.append(car_obs)"
   ]
  },
  {
   "cell_type": "markdown",
   "metadata": {},
   "source": [
    "## Move car to beginning of route"
   ]
  },
  {
   "cell_type": "code",
   "execution_count": 45,
   "metadata": {},
   "outputs": [],
   "source": [
    "t = route[0][0].transform\n",
    "car.set_transform(t)\n",
    "t.location.z += 15  # 15 meters above car\n",
    "sp.set_transform(t)"
   ]
  },
  {
   "cell_type": "code",
   "execution_count": 48,
   "metadata": {},
   "outputs": [
    {
     "data": {
      "image/png": "[encoded data removed]",
      "text/plain": [
       "<Figure size 432x288 with 1 Axes>"
      ]
     },
     "metadata": {
      "needs_background": "light"
     },
     "output_type": "display_data"
    }
   ],
   "source": [
    "s = np.linspace(0, path.length, 500)\n",
    "plt.figure(10, clear=True)\n",
    "_ = plt.plot(path.x(s), path.y(s))"
   ]
  },
  {
   "cell_type": "markdown",
   "metadata": {},
   "source": [
    "## State feedback controller"
   ]
  },
  {
   "cell_type": "code",
   "execution_count": 4,
   "metadata": {},
   "outputs": [],
   "source": [
    "class StateFeedbackController:\n",
    "    def __init__(self, K, L, path=None, goal_tol=1):\n",
    "        self.plan = path\n",
    "        self.K = K\n",
    "        self.goal_tol = goal_tol\n",
    "        self.d = []\n",
    "        self.delta = []\n",
    "        self.theta_e = []\n",
    "        self.s_p = []\n",
    "        self.L = L\n",
    "        self.s0 = 0\n",
    "\n",
    "        self.t = []\n",
    "        self.w = []\n",
    "\n",
    "    def heading_error(self, heading, s):\n",
    "        \"\"\"Compute theta error\"\"\"\n",
    "        heading0, nc = self.plan.heading(s)\n",
    "        cos_alpha = heading.dot(heading0)\n",
    "        sin_alpha = np.float(np.cross(heading0, heading))\n",
    "\n",
    "        theta_e = np.arctan2(sin_alpha, cos_alpha)\n",
    "        return theta_e\n",
    "\n",
    "    def u(self, t, w):\n",
    "        def glob_stab_fact(x):\n",
    "            \"\"\"Series expansion of sin(x)/x around x=0.\"\"\"\n",
    "            return 1 - x**2/6 + x**4/120 - x**6/5040\n",
    "\n",
    "        a = 0\n",
    "        x, y, theta, v = w\n",
    "        self.w.append(w)\n",
    "        p_car = w[0:2]\n",
    "        si, d = self.plan.project(p_car, self.s0, ds=2, s_lim=20)\n",
    "        self.s0 = si\n",
    "\n",
    "        heading = np.array([np.cos(theta), np.sin(theta)])\n",
    "        theta_e = self.heading_error(heading, si)\n",
    "\n",
    "        # No feed-forward term\n",
    "        u =  - self.K.dot(np.array([d*glob_stab_fact(theta_e), theta_e]))[0]\n",
    "        delta = np.max((-1.0, np.min((1.0, self.L*u))))\n",
    "        \n",
    "        self.d.append(d)\n",
    "        self.delta.append(delta)\n",
    "        self.s_p.append(si)\n",
    "        self.theta_e.append(theta_e)\n",
    "        self.t.append(t)\n",
    "\n",
    "        return np.array([delta, a])\n",
    "    \n",
    "    def run(self, t, w):\n",
    "        p_goal = self.plan.path[-1, :]\n",
    "        p_car = w[0:2]\n",
    "        dp = p_car - p_goal\n",
    "        dist = np.sqrt(dp.dot(dp))\n",
    "        if dist < self.goal_tol:\n",
    "            return False\n",
    "        else:\n",
    "            return True"
   ]
  },
  {
   "cell_type": "markdown",
   "metadata": {},
   "source": [
    "## Start autonomous driving "
   ]
  },
  {
   "cell_type": "code",
   "execution_count": 5,
   "metadata": {},
   "outputs": [
    {
     "ename": "NameError",
     "evalue": "name 'car' is not defined",
     "output_type": "error",
     "traceback": [
      "\u001b[0;31m---------------------------------------------------------------------------\u001b[0m",
      "\u001b[0;31mNameError\u001b[0m                                 Traceback (most recent call last)",
      "\u001b[0;32m<ipython-input-5-d739e2da7b50>\u001b[0m in \u001b[0;36m<module>\u001b[0;34m\u001b[0m\n\u001b[0;32m----> 1\u001b[0;31m \u001b[0mcar\u001b[0m\u001b[0;34m.\u001b[0m\u001b[0mapply_control\u001b[0m\u001b[0;34m(\u001b[0m\u001b[0mcarla\u001b[0m\u001b[0;34m.\u001b[0m\u001b[0mVehicleControl\u001b[0m\u001b[0;34m(\u001b[0m\u001b[0mthrottle\u001b[0m\u001b[0;34m=\u001b[0m\u001b[0;36m0\u001b[0m\u001b[0;34m,\u001b[0m \u001b[0msteer\u001b[0m\u001b[0;34m=\u001b[0m\u001b[0;36m0\u001b[0m\u001b[0;34m)\u001b[0m\u001b[0;34m)\u001b[0m\u001b[0;34m\u001b[0m\u001b[0;34m\u001b[0m\u001b[0m\n\u001b[0m\u001b[1;32m      2\u001b[0m \u001b[0mK\u001b[0m \u001b[0;34m=\u001b[0m \u001b[0mnp\u001b[0m\u001b[0;34m.\u001b[0m\u001b[0marray\u001b[0m\u001b[0;34m(\u001b[0m\u001b[0;34m[\u001b[0m\u001b[0;36m0.1\u001b[0m\u001b[0;34m,\u001b[0m \u001b[0;36m0.25\u001b[0m\u001b[0;34m]\u001b[0m\u001b[0;34m)\u001b[0m\u001b[0;34m.\u001b[0m\u001b[0mreshape\u001b[0m\u001b[0;34m(\u001b[0m\u001b[0;34m(\u001b[0m\u001b[0;36m1\u001b[0m\u001b[0;34m,\u001b[0m \u001b[0;36m2\u001b[0m\u001b[0;34m)\u001b[0m\u001b[0;34m)\u001b[0m\u001b[0;34m\u001b[0m\u001b[0;34m\u001b[0m\u001b[0m\n\u001b[1;32m      3\u001b[0m \u001b[0mL\u001b[0m \u001b[0;34m=\u001b[0m \u001b[0;36m3.5\u001b[0m\u001b[0;34m\u001b[0m\u001b[0;34m\u001b[0m\u001b[0m\n\u001b[1;32m      4\u001b[0m \u001b[0mctrl\u001b[0m \u001b[0;34m=\u001b[0m \u001b[0mStateFeedbackController\u001b[0m\u001b[0;34m(\u001b[0m\u001b[0mK\u001b[0m\u001b[0;34m,\u001b[0m \u001b[0mL\u001b[0m\u001b[0;34m,\u001b[0m \u001b[0mpath\u001b[0m\u001b[0;34m)\u001b[0m\u001b[0;34m\u001b[0m\u001b[0;34m\u001b[0m\u001b[0m\n\u001b[1;32m      5\u001b[0m \u001b[0mcar_states\u001b[0m \u001b[0;34m=\u001b[0m \u001b[0;34m[\u001b[0m\u001b[0;34m]\u001b[0m\u001b[0;34m\u001b[0m\u001b[0;34m\u001b[0m\u001b[0m\n",
      "\u001b[0;31mNameError\u001b[0m: name 'car' is not defined"
     ]
    }
   ],
   "source": [
    "car.apply_control(carla.VehicleControl(throttle=0, steer=0))\n",
    "K = np.array([0.1, 0.25]).reshape((1, 2))\n",
    "L = 3.5\n",
    "ctrl = StateFeedbackController(K, L, path)\n",
    "car_states = []\n",
    "tl = []\n",
    "while ctrl.s0 < path.length-5:\n",
    "    tck = world.wait_for_tick(1)\n",
    "    t = car.get_transform()\n",
    "    v = car.get_velocity()\n",
    "    v = np.sqrt(v.x**2+v.y**2+v.z**2)\n",
    "    w = np.array([t.location.x, t.location.y, t.rotation.yaw*np.pi/180.0, v])\n",
    "    car_states.append(w)\n",
    "\n",
    "    # Compute control signal and apply to car\n",
    "    u = ctrl.u(tck.timestamp.elapsed_seconds, w)\n",
    "    car.apply_control(carla.VehicleControl(throttle=0.7, steer=u[0]))\n"
   ]
  },
  {
   "cell_type": "markdown",
   "metadata": {},
   "source": [
    "## Stop car when finished"
   ]
  },
  {
   "cell_type": "code",
   "execution_count": null,
   "metadata": {},
   "outputs": [],
   "source": [
    "car.apply_control(carla.VehicleControl(throttle=0, steer=0))\n",
    "car_states = np.array(car_states)\n",
    "ctrl.t = np.array(ctrl.t)-ctrl.t[0]"
   ]
  },
  {
   "cell_type": "markdown",
   "metadata": {},
   "source": [
    "## Destroy actors"
   ]
  },
  {
   "cell_type": "code",
   "execution_count": 24,
   "metadata": {},
   "outputs": [],
   "source": [
    "for a in actors:\n",
    "    a.destroy()\n",
    "actors = []"
   ]
  },
  {
   "cell_type": "code",
   "execution_count": null,
   "metadata": {},
   "outputs": [],
   "source": []
  }
 ],
 "metadata": {
  "kernelspec": {
   "display_name": "Python 3",
   "language": "python",
   "name": "python3"
  },
  "language_info": {
   "codemirror_mode": {
    "name": "ipython",
    "version": 3
   },
   "file_extension": ".py",
   "mimetype": "text/x-python",
   "name": "python",
   "nbconvert_exporter": "python",
   "pygments_lexer": "ipython3",
   "version": "3.6.9"
  }
 },
 "nbformat": 4,
 "nbformat_minor": 4
}
